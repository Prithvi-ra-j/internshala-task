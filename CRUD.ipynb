{
 "cells": [
  {
   "cell_type": "code",
   "execution_count": 1,
   "id": "5354296d-15e5-47b3-a2dd-4b7419ee72a3",
   "metadata": {},
   "outputs": [],
   "source": [
    "import psycopg2\n",
    "\n",
    "\n",
    "conn = psycopg2.connect(\n",
    "    dbname=\"postgres\",\n",
    "    user=\"postgres\",\n",
    "    password=\"your_password\",  \n",
    "    host=\"localhost\",\n",
    "    port=\"5432\"\n",
    ")\n",
    "\n",
    "cur = conn.cursor()\n"
   ]
  },
  {
   "cell_type": "code",
   "execution_count": 2,
   "id": "9e28b878-5daf-4e65-a8d4-6f166c3ab515",
   "metadata": {},
   "outputs": [],
   "source": [
    "\n",
    "def create_registration(name, email, date_of_birth, phone_number=None, address=None):\n",
    "    try:\n",
    "        query = \"\"\"\n",
    "        INSERT INTO Registration (Name, Email, DateOfBirth, PhoneNumber, Address)\n",
    "        VALUES (%s, %s, %s, %s, %s);\n",
    "        \"\"\"\n",
    "        cur.execute(query, (name, email, date_of_birth, phone_number, address))\n",
    "        conn.commit()\n",
    "        print(\"Registration created successfully.\")\n",
    "    except Exception as e:\n",
    "        print(\"Error creating registration:\", e)\n"
   ]
  },
  {
   "cell_type": "code",
   "execution_count": 3,
   "id": "76f2edaf-9891-499d-af3f-a6f90bf22649",
   "metadata": {},
   "outputs": [],
   "source": [
    "\n",
    "def read_registration():\n",
    "    query = \"SELECT * FROM Registration;\"\n",
    "    cur.execute(query)\n",
    "    rows = cur.fetchall()\n",
    "    \n",
    "    for row in rows:\n",
    "        print(row)\n"
   ]
  },
  {
   "cell_type": "code",
   "execution_count": 4,
   "id": "65988e8c-7b2a-4e45-9ead-b64be86889f5",
   "metadata": {},
   "outputs": [],
   "source": [
    "\n",
    "def update_registration(reg_id, name=None, email=None, phone_number=None, address=None):\n",
    "    try:\n",
    "        query = \"\"\"\n",
    "        UPDATE Registration\n",
    "        SET Name = COALESCE(%s, Name),\n",
    "            Email = COALESCE(%s, Email),\n",
    "            PhoneNumber = COALESCE(%s, PhoneNumber),\n",
    "            Address = COALESCE(%s, Address)\n",
    "        WHERE ID = %s;\n",
    "        \"\"\"\n",
    "        cur.execute(query, (name, email, phone_number, address, reg_id))\n",
    "        conn.commit()\n",
    "        print(\"Registration updated successfully.\")\n",
    "    except Exception as e:\n",
    "        print(\"Error updating registration:\", e)\n"
   ]
  },
  {
   "cell_type": "code",
   "execution_count": 5,
   "id": "cc31f725-f12f-4f82-861a-6a0dbfa6808a",
   "metadata": {},
   "outputs": [],
   "source": [
    "\n",
    "def delete_registration(reg_id):\n",
    "    try:\n",
    "        query = \"DELETE FROM Registration WHERE ID = %s;\"\n",
    "        cur.execute(query, (reg_id,))\n",
    "        conn.commit()\n",
    "        print(\"Registration deleted successfully.\")\n",
    "    except Exception as e:\n",
    "        print(\"Error deleting registration:\", e)\n"
   ]
  },
  {
   "cell_type": "code",
   "execution_count": 6,
   "id": "3a800a22-488b-4c14-8512-fced0fca1f71",
   "metadata": {},
   "outputs": [
    {
     "name": "stdout",
     "output_type": "stream",
     "text": [
      "Registration created successfully.\n",
      "(1, 'Jane Doe', 'jane@example.com', datetime.date(1992, 6, 10), '9876543210', '456 Another St')\n",
      "(3, 'Prithviraj', '12345@gmail.com', datetime.date(2002, 11, 11), '778899888', 'India banglore asdfghkl')\n",
      "(5, 'haris', 'hasss@gmail.com', datetime.date(2003, 11, 23), '88770098', 'india delhi')\n",
      "(6, 'jeriya', 'jeriya34@gmail.com', datetime.date(2004, 4, 24), '774477474', 'india tamilnadu')\n",
      "(7, 'rishika', 'rishis@example.com', datetime.date(1998, 4, 1), '1234567890', 'Some Address')\n",
      "Registration updated successfully.\n",
      "Registration deleted successfully.\n"
     ]
    }
   ],
   "source": [
    "\n",
    "create_registration(\"rishika\", \"rishis@example.com\", \"1998-04-01\", \"1234567890\", \"Some Address\")\n",
    "read_registration()  \n",
    "update_registration(1, name=\"mahesh\")  \n",
    "delete_registration(1)  \n",
    "\n",
    "cur.close()\n",
    "conn.close()\n"
   ]
  }
 ],
 "metadata": {
  "kernelspec": {
   "display_name": "Python 3 (ipykernel)",
   "language": "python",
   "name": "python3"
  },
  "language_info": {
   "codemirror_mode": {
    "name": "ipython",
    "version": 3
   },
   "file_extension": ".py",
   "mimetype": "text/x-python",
   "name": "python",
   "nbconvert_exporter": "python",
   "pygments_lexer": "ipython3",
   "version": "3.10.5"
  }
 },
 "nbformat": 4,
 "nbformat_minor": 5
}
